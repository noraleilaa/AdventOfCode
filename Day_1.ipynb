{
 "cells": [
  {
   "cell_type": "code",
   "execution_count": 5,
   "metadata": {},
   "outputs": [
    {
     "name": "stdout",
     "output_type": "stream",
     "text": [
      "Star 1 answer: 2113135\n",
      "Star 2 answer: 19097157\n"
     ]
    }
   ],
   "source": [
    "def load():\n",
    "    # Load data\n",
    "    with open(\"input.txt\", \"r\") as f:\n",
    "        data = f.readlines()\n",
    "\n",
    "    # Process data\n",
    "    list_1, list_2 = zip(*(line.split() for line in data))\n",
    "    list_1 = [int(n) for n in list_1]\n",
    "    list_2 = [int(n) for n in list_2]\n",
    "    return list_1, list_2\n",
    "\n",
    "\n",
    "def part_1(list_1, list_2):\n",
    "    list_1_sorted = sorted(list_1)\n",
    "    list_2_sorted = sorted(list_2)\n",
    "\n",
    "    # Calculate distances\n",
    "    distances = sum([abs(a - b) for a, b in zip(list_1_sorted, list_2_sorted)])\n",
    "    return distances\n",
    "\n",
    "\n",
    "def part_2(list_1, list_2):\n",
    "    from collections import Counter\n",
    "\n",
    "    list_2_counts = Counter(list_2)\n",
    "\n",
    "    # Loop over each number in the first list and calculate the similarity\n",
    "    # score. Note a Counter object returns 0 if the key doesn't exist.\n",
    "    return sum([n * list_2_counts[n] for n in list_1])\n",
    "\n",
    "\n",
    "if __name__ == \"__main__\":\n",
    "    list_1, list_2 = load()\n",
    "    star_1_answer = part_1(list_1, list_2)\n",
    "    print(f\"Star 1 answer: {star_1_answer}\")\n",
    "    star_2_answer = part_2(list_1, list_2)\n",
    "    print(f\"Star 2 answer: {star_2_answer}\")"
   ]
  }
 ],
 "metadata": {
  "kernelspec": {
   "display_name": "Python 3",
   "language": "python",
   "name": "python3"
  },
  "language_info": {
   "codemirror_mode": {
    "name": "ipython",
    "version": 3
   },
   "file_extension": ".py",
   "mimetype": "text/x-python",
   "name": "python",
   "nbconvert_exporter": "python",
   "pygments_lexer": "ipython3",
   "version": "3.12.2"
  }
 },
 "nbformat": 4,
 "nbformat_minor": 2
}
